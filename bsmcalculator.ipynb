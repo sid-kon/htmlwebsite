{
  "nbformat": 4,
  "nbformat_minor": 0,
  "metadata": {
    "colab": {
      "provenance": [],
      "authorship_tag": "ABX9TyNDAlkkAtq8NgKM5J6VTLoL",
      "include_colab_link": true
    },
    "kernelspec": {
      "name": "python3",
      "display_name": "Python 3"
    },
    "language_info": {
      "name": "python"
    }
  },
  "cells": [
    {
      "cell_type": "markdown",
      "metadata": {
        "id": "view-in-github",
        "colab_type": "text"
      },
      "source": [
        "<a href=\"https://colab.research.google.com/github/sid-kon/htmlwebsite/blob/main/bsmcalculator.ipynb\" target=\"_parent\"><img src=\"https://colab.research.google.com/assets/colab-badge.svg\" alt=\"Open In Colab\"/></a>"
      ]
    },
    {
      "cell_type": "code",
      "execution_count": 1,
      "metadata": {
        "id": "iZ-kdH9a1coK",
        "colab": {
          "base_uri": "https://localhost:8080/"
        },
        "outputId": "f9e84310-45aa-4919-ab1a-714c2161e0a1"
      },
      "outputs": [
        {
          "output_type": "stream",
          "name": "stdout",
          "text": [
            "What is the risk free rate? .01\n",
            " What is the Current Stock Price? 30\n",
            "What is the Strike Price? 40\n",
            "What is the Time to Maturity? .657534\n",
            "What is the Volatility? .30\n",
            "Option Price is:  0.51\n"
          ]
        }
      ],
      "source": [
        "#Implementing the Black Scholes-Merton (BSM) Model: developed in 1973, method for pricing Eurpopean options contracts\n",
        "\n",
        "import numpy as np\n",
        "from scipy.stats import norm\n",
        "\n",
        "\n",
        "\n",
        "#Parameters:  risk free rate(r), Current Stock Price (S), Strike Price (K), Time to Maturity (T), Volatility (Sigma)\n",
        "\n",
        "#Define Variables\n",
        "\n",
        "#Example:\n",
        "#r = .01\n",
        "#S = 30\n",
        "#K = 40\n",
        "#T = 240/365, .657534\n",
        "#sigma = 0.30\n",
        "#Answer is .51\n",
        "\n",
        "r = float(input(\"What is the risk free rate? \"))\n",
        "S = float(input(\" What is the Current Stock Price? \"))\n",
        "K = float(input(\"What is the Strike Price? \"))\n",
        "T = float(input(\"What is the Time to Maturity? \"))\n",
        "sigma = float(input(\"What is the Volatility? \"))\n",
        "\n",
        "\n",
        "def blackScholes(r, S, K, T, sigma, type=\"c\"):\n",
        "    #\"Calculate Black Scholes price of call/put\"\n",
        "    d1 = (np.log(S/K) + (r + sigma**2/2)*T)/(sigma*np.sqrt(T))\n",
        "    d2 = d1 - sigma*np.sqrt(T)\n",
        "    try:\n",
        "        if type == \"c\":\n",
        "            price = S*norm.cdf(d1, 0, 1) - K*np.exp(-r*T)*norm.cdf(d2, 0, 1)\n",
        "        elif type == \"p\":\n",
        "            price = K*np.exp(-r*T)*norm.cdf(-d2, 0, 1) - S*norm.cdf(-d1, 0, 1)\n",
        "        return price\n",
        "    except:\n",
        "        print(\"Please confirm option type, either 'c' for Call or 'p' for Put!\")\n",
        "print(\"Option Price is: \", round(blackScholes(r, S, K, T, sigma, type=\"c\"),2))"
      ]
    }
  ]
}